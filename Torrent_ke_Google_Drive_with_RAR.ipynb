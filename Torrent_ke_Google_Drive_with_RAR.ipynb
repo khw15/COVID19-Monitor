{
  "nbformat": 4,
  "nbformat_minor": 0,
  "metadata": {
    "colab": {
      "name": "Torrent_ke_Google_Drive_with_RAR.ipynb",
      "provenance": [],
      "collapsed_sections": [
        "eAiC1CTzpSQI",
        "eqUcpHVVsw_6",
        "wYNTmUubtcGA",
        "tQmMGx5rxTyC",
        "mOCzBRT1XZTx",
        "Mlw6XyGxPD2s",
        "KgdsDicQJzfM",
        "rh2p7aQ2HWtp",
        "6_QOO6-ScicW",
        "rukfDM_XvajE"
      ],
      "include_colab_link": true
    },
    "kernelspec": {
      "display_name": "Python 3",
      "name": "python3"
    }
  },
  "cells": [
    {
      "cell_type": "markdown",
      "metadata": {
        "id": "view-in-github",
        "colab_type": "text"
      },
      "source": [
        "<a href=\"https://colab.research.google.com/github/hannz15/COVID19-Monitor/blob/master/Torrent_ke_Google_Drive_with_RAR.ipynb\" target=\"_parent\"><img src=\"https://colab.research.google.com/assets/colab-badge.svg\" alt=\"Open In Colab\"/></a>"
      ]
    },
    {
      "cell_type": "markdown",
      "metadata": {
        "id": "Gbl2Rajno-zX"
      },
      "source": [
        "\n",
        "# Torrent Ke Google Drive pake Colab\n",
        "\n",
        "Klik tombol play (run) di sebelah kiri setiap step kodingannya, tidak perlu run semuanya, sesuaikan dengan kebutuhan\n",
        "\n",
        "Selamat menikmati\n"
      ]
    },
    {
      "cell_type": "markdown",
      "metadata": {
        "id": "eAiC1CTzpSQI"
      },
      "source": [
        "# 1. Install Aplikasi nya\n",
        "Langsung start aja yak, bonus info nama appnya `transmission`\n",
        "\n"
      ]
    },
    {
      "cell_type": "code",
      "metadata": {
        "id": "cUEsYJClGDEm",
        "cellView": "form"
      },
      "source": [
        "#@title <<----<strong>Install paket yang diperlukan</strong>\n",
        "%%capture\n",
        "AUTO_RECONNECT = True #@param {type:\"boolean\"}\n",
        "TRANSMISSION = True #@param {type:\"boolean\"}\n",
        "RCLONE = True #@param {type:\"boolean\"}\n",
        "RAR = True #@param {type:\"boolean\"}\n",
        "CLEAN_LEFTOVER_FILES = True #@param {type:\"boolean\"}\n",
        "#@markdown Ceklis AUTO_RECONNECT untuk mencegah disconnected!\n",
        "\n",
        "from os import makedirs\n",
        "makedirs(\"/root/.config/rclone\", exist_ok = True) \n",
        "\n",
        "if TRANSMISSION==True:\n",
        "  !apt update\n",
        "  !sudo apt install transmission transmission-cli transmission-daemon\n",
        "  \n",
        "  !transmission-daemon --download-dir \"/content/\"\n",
        "  !transmission-daemon --peerport \"54345\"\n",
        "  !transmission-daemon\n",
        "  !transmission-remote -si\n",
        "\n",
        "if RCLONE==True:\n",
        "  !curl https://rclone.org/install.sh | sudo bash\n",
        "\n",
        "if RAR==True:\n",
        "  !wget https://gist.githubusercontent.com/MuhammadSaim/de84d1ca59952cf1efaa8c061aab81a1/raw/ca31cbda01412e85949810d52d03573af281f826/rarreg.key\n",
        "  !wget https://www.rarlab.com/rar/rarlinux-x64-6.0.2.tar.gz\n",
        "  !tar -xvf rarlinux-x64-6.0.2.tar.gz\n",
        "  !mkdir -p /usr/local/bin\n",
        "  !mkdir -p /usr/local/lib\n",
        "  !cp /content/rar/rar /usr/local/bin\n",
        "  !cp /content/rar/unrar /usr/local/bin\n",
        "  !cp /content/rar/rarfiles.lst /etc\n",
        "  !cp /content/rar/default.sfx /usr/local/lib\n",
        "  !cp rarreg.key /etc\n",
        "\n",
        "if CLEAN_LEFTOVER_FILES==True:\n",
        "  !rm -r rar sample* MANUAL *.key *.txt *.tar.gz\n",
        "\n",
        "if AUTO_RECONNECT:\n",
        "  import IPython\n",
        "  from google.colab import output\n",
        "\n",
        "  display(IPython.display.Javascript('''\n",
        "  function ClickConnect(){\n",
        "    btn = document.querySelector(\"colab-connect-button\")\n",
        "    if (btn != null){\n",
        "      console.log(\"Click colab-connect-button\"); \n",
        "      btn.click() \n",
        "      }\n",
        "    \n",
        "    btn = document.getElementById('ok')\n",
        "    if (btn != null){\n",
        "      console.log(\"Click reconnect\"); \n",
        "      btn.click() \n",
        "      }\n",
        "    }\n",
        "    \n",
        "  setInterval(ClickConnect,60000)\n",
        "  '''))"
      ],
      "execution_count": null,
      "outputs": []
    },
    {
      "cell_type": "markdown",
      "metadata": {
        "id": "nRnuw1vBq7Ay"
      },
      "source": [
        "# 2. Pilih sumber torrent\n",
        "Silahkan pilih sumber torrent dibawah ini"
      ]
    },
    {
      "cell_type": "markdown",
      "metadata": {
        "id": "eqUcpHVVsw_6"
      },
      "source": [
        "# A. Dari File\n",
        "Upload file torrent yang pengen di donlot\n",
        "\n",
        "Bisa di-run berulang-ulang buat nambahin torrent lagi, jadi ga 1 doang donlotnya"
      ]
    },
    {
      "cell_type": "code",
      "metadata": {
        "id": "012mrqbqs6iV"
      },
      "source": [
        "from google.colab import files\n",
        " \n",
        "aplod = files.upload()\n",
        " \n",
        "for fn in aplod.keys():\n",
        "  print('File \"{name}\" dengan ukuran {length} bytes udah di upload'.format(\n",
        "      name=fn, length=len(aplod[fn])))\n",
        " \n",
        "for fn in aplod.keys():\n",
        "  namaf=fn\n",
        " \n",
        "!transmission-remote -a \"/content/{namaf}\""
      ],
      "execution_count": null,
      "outputs": []
    },
    {
      "cell_type": "markdown",
      "metadata": {
        "id": "wYNTmUubtcGA"
      },
      "source": [
        "# B. Dari link magnet\n",
        "Copy paste link magnet-nya atau link download torrent-nya di bawah \n",
        "\n",
        "Bisa di-run berulang-ulang buat nambahin torrent lagi, jadi ga 1 doang donlotnya"
      ]
    },
    {
      "cell_type": "code",
      "metadata": {
        "id": "HPPdw50NtnhK",
        "cellView": "form"
      },
      "source": [
        "#@title Input link magnet Torrent\n",
        "magnet_link = \"\" #@param {type:\"string\"}\n",
        "#while True:\n",
        "#    magnet_link = input(\"Masukkan link magnet atau ketik exit: \")\n",
        "#    if magnet_link.lower() == \"exit\":\n",
        "#        break\n",
        "!transmission-remote -a \"{magnet_link}\""
      ],
      "execution_count": null,
      "outputs": []
    },
    {
      "cell_type": "markdown",
      "metadata": {
        "id": "tQmMGx5rxTyC"
      },
      "source": [
        "# 3. Status donlot\n",
        "Udah, tinggal start ntar muncul status download nya, ditinggal, di-stop juga masi jalan donlotannya\n",
        "\n",
        "Filenya ada di folder \"Torrent Download\" yak\n",
        "\n"
      ]
    },
    {
      "cell_type": "code",
      "metadata": {
        "id": "SQWp6QwRbaez"
      },
      "source": [
        "!rm *.torrent\n",
        "import time, os\n",
        "from IPython.display import clear_output\n",
        "from subprocess import Popen, PIPE, STDOUT\n",
        "from IPython.core.magic import register_line_magic\n",
        " \n",
        "@register_line_magic\n",
        "def ngerun(command):\n",
        "    process = Popen(command, stdout=PIPE, shell=True, stderr=STDOUT, bufsize=1, close_fds=True)\n",
        "    for line in iter(process.stdout.readline, b''):\n",
        "        print(line.rstrip().decode('utf-8'))\n",
        "    process.stdout.close()\n",
        "    process.wait()\n",
        " \n",
        "def tampil():\n",
        "  clear_output()\n",
        "  %ngerun transmission-remote -l\n",
        "while True:\n",
        "  tampil()\n",
        "  time.sleep(3)"
      ],
      "execution_count": null,
      "outputs": []
    },
    {
      "cell_type": "markdown",
      "metadata": {
        "id": "mOCzBRT1XZTx"
      },
      "source": [
        "# 4. Last Step\n",
        "Setelah semua donlotan selesai, run code ini"
      ]
    },
    {
      "cell_type": "code",
      "metadata": {
        "id": "37jBy_hSXk7b"
      },
      "source": [
        "!killall transmission-daemon\n",
        "!killall transmission"
      ],
      "execution_count": null,
      "outputs": []
    },
    {
      "cell_type": "markdown",
      "metadata": {
        "id": "YF7w63TYGuQi"
      },
      "source": [
        "Kalo mau restart aplikasi-nya, run code ini"
      ]
    },
    {
      "cell_type": "code",
      "metadata": {
        "id": "xSADQh2dGzPJ"
      },
      "source": [
        "!transmission-daemon --download-dir \"/content/\"\n",
        "!transmission-daemon --peerport \"54345\"\n",
        " \n",
        "!transmission-daemon\n",
        "!transmission-remote -si"
      ],
      "execution_count": null,
      "outputs": []
    },
    {
      "cell_type": "markdown",
      "metadata": {
        "id": "Mlw6XyGxPD2s"
      },
      "source": [
        "# 5. Archiving\n",
        "Kalo mau pas download file yang banyak lebih efisien, bisa pake ini.\n",
        "\n",
        "Catatan:\n",
        "\n",
        "1.   Arsip Solid, membuat arsip solid. Membutuhkan waktu lama jika level kompresi disetel ke lima.\n",
        "2.   Enkripsi, menambahkan password.\n",
        "3.   Enkripsi Nama File, seperti poin kedua namun membutuhkan password saat akan membuka arsip.\n",
        "4.   Hapus File Setelah Selesai, menghapus file yang diarsipkan.\n",
        "5.   Kunci, untuk mencegah pengeditan pada arsip.\n",
        "6.   Split Archive, memecah file arsip menjadi 500MB untuk setiap file asrip.\n"
      ]
    },
    {
      "cell_type": "code",
      "metadata": {
        "id": "ltEmuPLDk1UN",
        "cellView": "form"
      },
      "source": [
        "Sumber = \"test.img\" #@param {type:\"string\"}\n",
        "Nama_File = \"Tes\" #@param {type:\"string\"}\n",
        "Level_Kompresi = 3 #@param {type:\"slider\", min:0, max:5, step:1}\n",
        "Ukuran_Kamus = 32 #@param {type:\"slider\", min:16, max:1024, step:16}\n",
        "#@markdown ---\n",
        "\n",
        "ARSIP_SOLID = False #@param {type:\"boolean\"}\n",
        "ENKRIPSI = False #@param {type:\"boolean\"}\n",
        "ENKRIPSI_NAMA_FILE = False #@param {type:\"boolean\"}\n",
        "HAPUS_FILE_SETELAH_SELESAI = False #@param {type:\"boolean\"}\n",
        "KUNCI_ARSIP = False #@param {type:\"boolean\"}\n",
        "SPLIT_ARCHIVE = False #@param {type:\"boolean\"}\n",
        "TES_ARSIP = False #@param {type:\"boolean\"}\n",
        "\n",
        "###############################\n",
        "args = \"a -ma5 -htb \"\n",
        "\n",
        "if TES_ARSIP == True:\n",
        "  args += \"-t \"\n",
        "if HAPUS_FILE_SETELAH_SELESAI == True:\n",
        "  args += \"-df \"\n",
        "if SPLIT_ARCHIVE == True:\n",
        "  args += \"-v512000k \"\n",
        "if ENKRIPSI == True:\n",
        "  args += \"-p\"\n",
        "if ENKRIPSI_NAMA_FILE == True:\n",
        "  args += \"-hp\"\n",
        "if ARSIP_SOLID == True:\n",
        "  args += \"-s \"\n",
        "if KUNCI_ARSIP == True:\n",
        "  args += \"-k \"\n",
        "  \n",
        "###############################\n",
        "def runRar():\n",
        "  !rar $args \"-m$Level_Kompresi\" \"-md$Ukuran_Kamus\" \"$Nama_File\" \"$Sumber\"\n",
        "\n",
        "runRar()"
      ],
      "execution_count": null,
      "outputs": []
    },
    {
      "cell_type": "markdown",
      "metadata": {
        "id": "NrBaR6M3SUlh"
      },
      "source": [
        "# 7. Mounting Cloud Storage\n",
        "\n",
        "Pake 2 opsi di bawah ya. Kalo pake Drive for Desktop, cuman bisa pake Google Drive. Kalo Rclone, bisa pake cloud storage provider apapun."
      ]
    },
    {
      "cell_type": "markdown",
      "metadata": {
        "id": "KgdsDicQJzfM"
      },
      "source": [
        "####A. Drive for Desktop\n"
      ]
    },
    {
      "cell_type": "code",
      "metadata": {
        "id": "zzgH8ew9kprB"
      },
      "source": [
        "from google.colab import drive\n",
        "drive.mount('/content/drive/')"
      ],
      "execution_count": null,
      "outputs": []
    },
    {
      "cell_type": "code",
      "metadata": {
        "cellView": "form",
        "id": "Cfuq-U5wnLwQ"
      },
      "source": [
        "#@markdown <center><font size=\"3\">Ga support asterisk ya. Kalo mau asterisk pake command <b>CP</b> di cell baru ya</font></center>\n",
        "Sumber = \"\" #@param {type:\"string\"}\n",
        "Destinasi = \"APA YA\" #@param{type:\"string\"}\n",
        "\n",
        "#################################\n",
        "\n",
        "def runCp():\n",
        "  !mkdir /content/drive/My\\ Drive/\"$Destinasi\"\n",
        "  !chmod ugo+rw /content/drive/My\\ Drive/\"$Destinasi\"\n",
        "  !cp -v \"$Sumber\" /content/drive/My\\ Drive/\"$Destinasi\"\n",
        "\n",
        "runCp()"
      ],
      "execution_count": null,
      "outputs": []
    },
    {
      "cell_type": "markdown",
      "metadata": {
        "id": "4HuH4lfZuzSb"
      },
      "source": [
        "##### Unmounting"
      ]
    },
    {
      "cell_type": "code",
      "metadata": {
        "id": "ek2Mm140u6UW"
      },
      "source": [
        "drive.flush_and_unmount()"
      ],
      "execution_count": null,
      "outputs": []
    },
    {
      "cell_type": "markdown",
      "metadata": {
        "id": "rh2p7aQ2HWtp"
      },
      "source": [
        "#### B. Rclone\n",
        "\n",
        "Sebelum di mounting, upload dulu file konfigurasi Rclone pake cell di bawah.\n",
        "\n",
        "Cara bikin file Rclone.config baca <a href=\"https://onehack.us/t/colab-notebook-to-compress-videos-using-handbrake/104456/9?u=skghd\">di sini</a>."
      ]
    },
    {
      "cell_type": "code",
      "metadata": {
        "cellView": "form",
        "id": "7H-l5wQOHlx5"
      },
      "source": [
        "#@title <-----Upload File Rclone.config\n",
        "def moveConfig():\n",
        "  !mv rclone.conf /root/.config/rclone/rclone.conf\n",
        "\n",
        "from google.colab import files\n",
        "\n",
        "uploaded = files.upload()\n",
        "\n",
        "for fn in uploaded.keys():\n",
        "  print('User uploaded file \"{name}\" with length {length} bytes'.format(\n",
        "      name=fn, length=len(uploaded[fn])))\n",
        "moveConfig()\n",
        "print(\"Moved rclone.conf to /root/.config/rclone/rclone.conf\")"
      ],
      "execution_count": null,
      "outputs": []
    },
    {
      "cell_type": "code",
      "metadata": {
        "cellView": "form",
        "id": "h1pPzoFFInC6"
      },
      "source": [
        "#@markdown <center><h3>Rclone MOUNT / UNMOUNT</h3>Mount the remote as file system on a mountpoint.</center>\n",
        "import os\n",
        "from IPython.display import HTML, clear_output\n",
        "import uuid\n",
        "import ipywidgets as widgets\n",
        "from google.colab import output\n",
        "import re\n",
        "##########################################\n",
        "\n",
        "class MakeButton(object):\n",
        "  def __init__(self, title, callback, style):\n",
        "    self._title = title\n",
        "    self._callback = callback\n",
        "    self._style = style\n",
        "  def _repr_html_(self):\n",
        "    callback_id = 'button-' + str(uuid.uuid4())\n",
        "    output.register_callback(callback_id, self._callback)\n",
        "    if self._style != \"\":\n",
        "      style_html = \"p-Widget jupyter-widgets jupyter-button widget-button mod-\" + self._style\n",
        "    else:\n",
        "      style_html = \"p-Widget jupyter-widgets jupyter-button widget-button\"\n",
        "    template = \"\"\"<button class=\"{style_html}\" id=\"{callback_id}\">{title}</button>\n",
        "        <script>\n",
        "          document.querySelector(\"#{callback_id}\").onclick = (e) => {{\n",
        "            google.colab.kernel.invokeFunction('{callback_id}', [], {{}})\n",
        "            e.preventDefault();\n",
        "          }};\n",
        "        </script>\"\"\"\n",
        "    html = template.format(title=self._title, callback_id=callback_id, style_html=style_html)\n",
        "    return html\n",
        "  \n",
        "def ShowAC():\n",
        "  clear_output(wait=True)\n",
        "  display(\n",
        "      widgets.HBox(\n",
        "          [widgets.VBox(\n",
        "              [widgets.HTML(\n",
        "                  '''<h3 style=\"font-family:Trebuchet MS;color:#4f8bd6;margin-top:0px;\">\n",
        "                  Rclone available config...</h3>\n",
        "                  '''\n",
        "                  ),\n",
        "               mountNam]\n",
        "               )\n",
        "          ]\n",
        "          )\n",
        "      )\n",
        "  \n",
        "  display(HTML(\"<br>\"), MakeButton(\"Mount\", MountCMD, \"primary\"),\n",
        "          MakeButton(\"Unmount\", unmountCMD, \"danger\"))\n",
        "content = open(\"/root/.config/rclone/rclone.conf\").read()\n",
        "avCon = re.findall(r\"^\\[(.+)\\]$\", content, re.M)\n",
        "mountNam = widgets.Dropdown(options=avCon)\n",
        "cache_path=\"/content/temp/rCloneTemp\"\n",
        "def MountCMD():\n",
        "    mPoint = f\"/content/drives/{mountNam.value}\"\n",
        "    os.makedirs(mPoint, exist_ok=True)\n",
        "    !rclone mount $mountNam.value: $mPoint --user-agent 'Mozilla' --buffer-size 256M --transfers 10 --vfs-cache-mode minimal --vfs-read-chunk-size 500M --vfs-cache-max-size 50G --vfs-cache-max-age 0h0m1s --vfs-cache-poll-interval 0m1s --cache-dir '/content/temp/rCloneTemp' --allow-other --daemon \n",
        "\n",
        "    if os.path.isdir(mPoint)== True:\n",
        "      print(f\"Mount success! - \\t{mPoint}\")\n",
        "    else:\n",
        "      print(f\"Mount failed! - \\t{mPoint}\")\n",
        "\n",
        "def unmountCMD():\n",
        "  mPoint = f\"/content/drives/{mountNam.value}\"\n",
        "  if os.system(f\"fusermount -uz {mPoint}\") == 0:\n",
        "    runSh(f\"rm -r {mPoint}\")\n",
        "    print(f\"Unmounted success! - \\t{mPoint}\")\n",
        "  else:\n",
        "    runSh(f\"fusermount -uz {mPoint}\", output=True)\n",
        "\n",
        "ShowAC()"
      ],
      "execution_count": null,
      "outputs": []
    },
    {
      "cell_type": "code",
      "metadata": {
        "cellView": "form",
        "id": "d3C0yKziM74b"
      },
      "source": [
        " \n",
        "#@markdown <center><img src=\"https://forum.rclone.org/uploads/default/original/2X/d/da6ccb2784ff3fa73d9339300530e0aae4d6cebd.png\" alt=\"rclone forum\" width=150></center>\n",
        " \n",
        "#@markdown ---\n",
        "source = \"\" #@param {type:\"string\"}\n",
        "destination = \"\" #@param {type:\"string\"}\n",
        "mode = \"copy\" #@param [\"copy\", \"check\"]\n",
        "dry_run = False #@param {type:\"boolean\"}\n",
        "Extra_args = \"\" #@param {type:\"string\"}\n",
        "\n",
        "########################################\n",
        "args = \"--transfers 20 --checkers 20 --stats-one-line --stats=5s -v --tpslimit 95 --tpslimit-burst 40 \"\n",
        "if mode == \"check\":\n",
        "  args += \"--one-way \"\n",
        "if dry_run == True:\n",
        "    args +=\" --dry-run \"\n",
        "if logs == True:\n",
        "  args += \" --log-file rClone_log.txt \"\n",
        "if Extra_args != \"\":\n",
        "  args +=Extra_args\n",
        "######################################\n",
        "def runrClone():\n",
        "  !rclone --user-agent \"Mozilla\" \"$mode\" \"$source\" \"$destination\" $args"
      ],
      "execution_count": null,
      "outputs": []
    },
    {
      "cell_type": "code",
      "metadata": {
        "id": "hNxcH0dusJoW"
      },
      "source": [
        "!md5sum *.rar > MD5.md5\n",
        "!cp -v *.rar *.md5 \"/content/drive/MyDrive/Torrent Downloads\""
      ],
      "execution_count": null,
      "outputs": []
    },
    {
      "cell_type": "code",
      "metadata": {
        "id": "KgYHUxa8k3tG"
      },
      "source": [
        "drive.flush_and_unmount()"
      ],
      "execution_count": null,
      "outputs": []
    },
    {
      "cell_type": "markdown",
      "metadata": {
        "id": "6_QOO6-ScicW"
      },
      "source": [
        "####HANYA JALANKAN CELL INI KALO UDAH YAKIN!!!"
      ]
    },
    {
      "cell_type": "code",
      "metadata": {
        "id": "n4b9LJidctij"
      },
      "source": [
        "!rm *.rar"
      ],
      "execution_count": null,
      "outputs": []
    },
    {
      "cell_type": "markdown",
      "metadata": {
        "id": "rukfDM_XvajE"
      },
      "source": [
        "# do not touch\n",
        "buat debugging"
      ]
    },
    {
      "cell_type": "code",
      "metadata": {
        "id": "pvwPmRmkVKMX"
      },
      "source": [
        ""
      ],
      "execution_count": null,
      "outputs": []
    }
  ]
}