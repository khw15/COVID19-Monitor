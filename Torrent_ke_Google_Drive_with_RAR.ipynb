{
  "nbformat": 4,
  "nbformat_minor": 0,
  "metadata": {
    "colab": {
      "name": "Torrent_ke_Google_Drive_with_RAR.ipynb",
      "provenance": [],
      "collapsed_sections": [
        "eAiC1CTzpSQI",
        "eqUcpHVVsw_6",
        "wYNTmUubtcGA",
        "tQmMGx5rxTyC",
        "mOCzBRT1XZTx",
        "Mlw6XyGxPD2s",
        "a2YRv0Z_yutB",
        "F8X2Ldjlry10",
        "adyF_I4Spzux",
        "c8w9wgaQwoA7",
        "OeyJdWAssqzE",
        "9LdNsku_wfHd",
        "NrBaR6M3SUlh",
        "KgdsDicQJzfM",
        "rh2p7aQ2HWtp",
        "6_QOO6-ScicW",
        "rukfDM_XvajE"
      ],
      "include_colab_link": true
    },
    "kernelspec": {
      "display_name": "Python 3",
      "name": "python3"
    }
  },
  "cells": [
    {
      "cell_type": "markdown",
      "metadata": {
        "id": "view-in-github",
        "colab_type": "text"
      },
      "source": [
        "<a href=\"https://colab.research.google.com/github/hann315/COVID19-Monitor/blob/master/Torrent_ke_Google_Drive_with_RAR.ipynb\" target=\"_parent\"><img src=\"https://colab.research.google.com/assets/colab-badge.svg\" alt=\"Open In Colab\"/></a>"
      ]
    },
    {
      "cell_type": "markdown",
      "metadata": {
        "id": "Gbl2Rajno-zX"
      },
      "source": [
        "\n",
        "# Torrent Ke Google Drive pake Colab\n",
        "\n",
        "Klik tombol play (run) di sebelah kiri setiap step kodingannya, tidak perlu run semuanya, sesuaikan dengan kebutuhan\n",
        "\n",
        "Selamat menikmati\n"
      ]
    },
    {
      "cell_type": "markdown",
      "metadata": {
        "id": "eAiC1CTzpSQI"
      },
      "source": [
        "# 1. Install Aplikasi nya\n",
        "Langsung start aja yak, app yang dipake `transmission`, `RAR`\n",
        "\n"
      ]
    },
    {
      "cell_type": "code",
      "metadata": {
        "id": "cUEsYJClGDEm",
        "cellView": "form"
      },
      "source": [
        "#@title <<----<strong>Install paket yang diperlukan</strong>\n",
        "%%capture\n",
        "AUTO_RECONNECT = True #@param {type:\"boolean\"}\n",
        "TRANSMISSION = True #@param {type:\"boolean\"}\n",
        "ARCHIVING_TOOLS = True #@param {type:\"boolean\"}\n",
        "CLEAN_LEFTOVER_FILES = True #@param {type:\"boolean\"}\n",
        "\n",
        "import time, os\n",
        "import IPython\n",
        "from os import makedirs\n",
        "from google.colab import drive, output, files\n",
        "from IPython.display import clear_output\n",
        "from subprocess import Popen, PIPE, STDOUT\n",
        "from IPython.core.magic import register_line_magic\n",
        "\n",
        "if TRANSMISSION==True:\n",
        "  !apt update\n",
        "  !sudo apt install transmission transmission-cli transmission-daemon\n",
        "  \n",
        "  !transmission-daemon --download-dir \"/content/\"\n",
        "  !transmission-daemon --peerport \"54345\"\n",
        "  !transmission-daemon\n",
        "  !transmission-remote -si\n",
        "\n",
        "if ARCHIVING_TOOLS==True:\n",
        "  !wget https://gist.githubusercontent.com/hann315/8d64fb5faf633afb87da7499a036528e/raw/51d55ec9566a9d8f630c870f6f4e4eaea1387d43/rarreg.key\n",
        "  !wget https://www.rarlab.com/rar/rarlinux-x64-610b3.tar.gz\n",
        "  !wget https://www.7-zip.org/a/7z2107-linux-x64.tar.xz\n",
        "  !tar -xf rarlinux-x64-610b3.tar.gz\n",
        "  !tar -xf 7z2107-linux-x64.tar.xz\n",
        "  !mkdir -p /usr/local/bin\n",
        "  !mkdir -p /usr/local/lib\n",
        "  !mv rarreg.key /etc\n",
        "  !cp /content/rar/rar /usr/local/bin\n",
        "  !cp /content/rar/unrar /usr/local/bin\n",
        "  !cp /content/rar/rarfiles.lst /etc\n",
        "  !cp /content/rar/default.sfx /usr/local/lib\n",
        "  !mv /content/7zzs /usr/local/bin\n",
        "  !mv /content/7zz /usr/local/bin\n",
        "\n",
        "if CLEAN_LEFTOVER_FILES==True:\n",
        "  !rm -r rar sample* MANUAL *.txt *.tar.xz *.tar.gz *.key\n",
        "  \n",
        "if AUTO_RECONNECT==True:\n",
        "\n",
        "  display(IPython.display.Javascript('''\n",
        "  function ClickConnect(){\n",
        "    btn = document.querySelector(\"colab-connect-button\")\n",
        "    if (btn != null){\n",
        "      console.log(\"Click colab-connect-button\"); \n",
        "      btn.click() \n",
        "      }\n",
        "    \n",
        "    btn = document.getElementById('ok')\n",
        "    if (btn != null){\n",
        "      console.log(\"Click reconnect\"); \n",
        "      btn.click() \n",
        "      }\n",
        "    }\n",
        "    \n",
        "  setInterval(ClickConnect,60000)\n",
        "  '''))"
      ],
      "execution_count": null,
      "outputs": []
    },
    {
      "cell_type": "markdown",
      "metadata": {
        "id": "nRnuw1vBq7Ay"
      },
      "source": [
        "# 2. Pilih sumber torrent\n",
        "Silahkan pilih sumber torrent dibawah ini"
      ]
    },
    {
      "cell_type": "markdown",
      "metadata": {
        "id": "eqUcpHVVsw_6"
      },
      "source": [
        "## A. Dari File\n",
        "Upload file torrent yang pengen di donlot\n",
        "\n",
        "Bisa di-run berulang-ulang buat nambahin torrent lagi, jadi ga 1 doang donlotnya"
      ]
    },
    {
      "cell_type": "code",
      "metadata": {
        "id": "012mrqbqs6iV",
        "cellView": "form"
      },
      "source": [
        "#@title <-----Upload File Torrent\n",
        " \n",
        "aplod = files.upload()\n",
        " \n",
        "for fn in aplod.keys():\n",
        "  print('File \"{name}\" dengan ukuran {length} bytes udah di upload'.format(\n",
        "      name=fn, length=len(aplod[fn])))\n",
        " \n",
        "for fn in aplod.keys():\n",
        "  namaf=fn\n",
        " \n",
        "!transmission-remote -a \"/content/{namaf}\""
      ],
      "execution_count": null,
      "outputs": []
    },
    {
      "cell_type": "markdown",
      "metadata": {
        "id": "wYNTmUubtcGA"
      },
      "source": [
        "## B. Dari link magnet\n",
        "Copy paste link magnet-nya atau link download torrent-nya di bawah \n",
        "\n",
        "Bisa di-run berulang-ulang buat nambahin torrent lagi, jadi ga 1 doang donlotnya"
      ]
    },
    {
      "cell_type": "code",
      "metadata": {
        "id": "HPPdw50NtnhK",
        "cellView": "form"
      },
      "source": [
        "#@title Input link magnet Torrent\n",
        "magnet_link = \"\" #@param {type:\"string\"}\n",
        "#while True:\n",
        "#    magnet_link = input(\"Masukkan link magnet atau ketik exit: \")\n",
        "#    if magnet_link.lower() == \"exit\":\n",
        "#        break\n",
        "!transmission-remote -a \"{magnet_link}\""
      ],
      "execution_count": null,
      "outputs": []
    },
    {
      "cell_type": "markdown",
      "metadata": {
        "id": "tQmMGx5rxTyC"
      },
      "source": [
        "# 3. Status donlot\n",
        "Udah, tinggal start ntar muncul status download nya, ditinggal, di-stop juga masi jalan donlotannya\n",
        "\n"
      ]
    },
    {
      "cell_type": "code",
      "metadata": {
        "id": "SQWp6QwRbaez",
        "cellView": "form"
      },
      "source": [
        "#@title <-----Tampilkan Status Download Torrent\n",
        "\n",
        "!sudo mkdir -p /Torrent/\n",
        "!mv *.torrent /Torrent/\n",
        "\n",
        "@register_line_magic\n",
        "def ngerun(command):\n",
        "    process = Popen(command, stdout=PIPE, shell=True, stderr=STDOUT, bufsize=1, close_fds=True)\n",
        "    for line in iter(process.stdout.readline, b''):\n",
        "        print(line.rstrip().decode('utf-8'))\n",
        "    process.stdout.close()\n",
        "    process.wait()\n",
        " \n",
        "def tampil():\n",
        "  clear_output()\n",
        "  %ngerun transmission-remote -l\n",
        "while True:\n",
        "  tampil()\n",
        "  time.sleep(3)"
      ],
      "execution_count": null,
      "outputs": []
    },
    {
      "cell_type": "markdown",
      "metadata": {
        "id": "mOCzBRT1XZTx"
      },
      "source": [
        "# 4. Last Step\n",
        "Setelah semua donlotan selesai, run code ini"
      ]
    },
    {
      "cell_type": "code",
      "metadata": {
        "id": "37jBy_hSXk7b",
        "cellView": "form"
      },
      "source": [
        "#@markdown Buat matiin aplikasi nya. Inget, budayakan seeding!\n",
        "\n",
        "!killall transmission-daemon\n",
        "!killall transmission"
      ],
      "execution_count": null,
      "outputs": []
    },
    {
      "cell_type": "code",
      "metadata": {
        "id": "xSADQh2dGzPJ",
        "cellView": "form"
      },
      "source": [
        "#@markdown Kalo mau restart aplikasi-nya, run code ini\n",
        "!transmission-daemon --download-dir \"/content/\"\n",
        "!transmission-daemon --peerport \"54345\"\n",
        " \n",
        "!transmission-daemon\n",
        "!transmission-remote -si"
      ],
      "execution_count": null,
      "outputs": []
    },
    {
      "cell_type": "markdown",
      "metadata": {
        "id": "Mlw6XyGxPD2s"
      },
      "source": [
        "# 5. Tools\n",
        "\n",
        "Tool buat archiving sama extracting."
      ]
    },
    {
      "cell_type": "markdown",
      "metadata": {
        "id": "a2YRv0Z_yutB"
      },
      "source": [
        "## Archiving Tools"
      ]
    },
    {
      "cell_type": "markdown",
      "metadata": {
        "id": "F8X2Ldjlry10"
      },
      "source": [
        "### RAR\n",
        "\n",
        "Paling umum digunakan."
      ]
    },
    {
      "cell_type": "code",
      "metadata": {
        "id": "ltEmuPLDk1UN",
        "cellView": "form"
      },
      "source": [
        "#@markdown <center>RAR Archiving Tool</center>\n",
        "#@markdown\n",
        "SUMBER = \"\" #@param {type:\"string\"}\n",
        "NAMA_FILE = \"\" #@param {type:\"string\"}\n",
        "LEVEL_KOMPRESI = \"Normal\" #@param [\"Simpan\", \"Tercepat\", \"Cepat\", \"Normal\", \"Bagus\", \"Ultra\"]\n",
        "UKURAN_KAMUS = \"64MB\" #@param [\"1MB\", \"2MB\", \"4MB\", \"8MB\", \"16MB\", \"32MB\", \"64MB\", \"128MB\", \"256MB\", \"512MB\", \"1GB\"]\n",
        "\n",
        "#@markdown ---\n",
        "#@markdown <center>UMUM</center>\n",
        "\n",
        "ARSIP_SOLID = \"Nonaktif\" #@param [\"Aktif\", \"Nonaktif\"]\n",
        "TAMBAH_RECOVERY = \"Nonaktif\" #@param [\"Nonaktif\", \"Record\", \"Volume\"]\n",
        "ENKRIPSI = \"Jangan Enkripsi\" #@param [\"Jangan Enkripsi\", \"Enkripsi\", \"Enkripsi Nama File\", \"Default Password\", \"Default Password (ENF)\"]\n",
        "SPLIT_ARCHIVE = \"Nonaktif\" #@param [\"Nonaktif\", \"100MB\", \"250MB\", \"500MB\", \"1GB\", \"2GB\"]\n",
        "TES_ARSIP = False #@param {type:\"boolean\"}\n",
        "KUNCI_ARSIP = False #@param {type:\"boolean\"}\n",
        "HAPUS_FILE_SETELAH_SELESAI = False #@param {type:\"boolean\"}\n",
        "\n",
        "#@markdown ---\n",
        "#@markdown <center>OPSI</center>\n",
        "\n",
        "TAMBAH_INFORMASI_BUKA_CEPAT = False #@param {type:\"boolean\"}\n",
        "TIPE_HASH = \"BLAKE2\" #@param [\"BLAKE2\", \"CRC32\"]\n",
        "JUMLAH_THREADS = \"2\" #@param [1, 2]\n",
        "\n",
        "###############################\n",
        "args = \"a -ma5 -ilogerror.txt -tk -tsmcap -msrar \"\n",
        "\n",
        "if TES_ARSIP == True:\n",
        "  args += \"-t \"\n",
        "if HAPUS_FILE_SETELAH_SELESAI == True:\n",
        "  args += \"-df \"\n",
        "if KUNCI_ARSIP == True:\n",
        "  args += \"-k \"\n",
        "if TAMBAH_INFORMASI_BUKA_CEPAT == True:\n",
        "  args += \"-qo+ \"\n",
        "\n",
        "if SPLIT_ARCHIVE == \"100MB\":\n",
        "  args += \"-v102400k \"\n",
        "if SPLIT_ARCHIVE == \"250MB\":\n",
        "  args += \"-v256000k \"\n",
        "if SPLIT_ARCHIVE == \"500MB\":\n",
        "  args += \"-v512000k \"\n",
        "if SPLIT_ARCHIVE == \"1GB\":\n",
        "  args += \"-v1048576k \"\n",
        "if SPLIT_ARCHIVE == \"2GB\":\n",
        "  args += \"-v2097152k \"\n",
        "\n",
        "if ENKRIPSI == \"Enkripsi\":\n",
        "  args += \"-p \"\n",
        "if ENKRIPSI == \"Enkripsi Nama File\":\n",
        "  args += \"-hp \"\n",
        "if ENKRIPSI == \"Default Password\":\n",
        "  args += \"-pU2PdV#3jaYqXAWM4-&jE69NDs3NH@&ZJ \"\n",
        "if ENKRIPSI == \"Default Password (ENF)\":\n",
        "  args += \"-hpU2PdV#3jaYqXAWM4-&jE69NDs3NH@&ZJ \"\n",
        "\n",
        "if TAMBAH_RECOVERY == \"Record\":\n",
        "  args += \"-rr3 \"\n",
        "if TAMBAH_RECOVERY == \"Volume\":\n",
        "  args += \"-rv \"\n",
        "\n",
        "if ARSIP_SOLID == \"Aktif\":\n",
        "  args += \"-s \"\n",
        "if ARSIP_SOLID == \"Nonaktif\":\n",
        "  args += \"-s- \"\n",
        "\n",
        "if LEVEL_KOMPRESI == \"Simpan\":\n",
        "  args += \"-m0 \"\n",
        "if LEVEL_KOMPRESI == \"Tercepat\":\n",
        "  args += \"-m1 \"\n",
        "if LEVEL_KOMPRESI == \"Cepat\":\n",
        "  args += \"-m2 \"\n",
        "if LEVEL_KOMPRESI == \"Normal\":\n",
        "  args += \"-m3 \"\n",
        "if LEVEL_KOMPRESI == \"Bagus\":\n",
        "  args += \"-m4 \"\n",
        "if LEVEL_KOMPRESI == \"Ultra\":\n",
        "  args += \"-m5 \"\n",
        "\n",
        "if UKURAN_KAMUS == \"1MB\":\n",
        "  args += \"-md1m \"\n",
        "if UKURAN_KAMUS == \"2MB\":\n",
        "  args += \"-md2m \"\n",
        "if UKURAN_KAMUS == \"4MB\":\n",
        "  args += \"-md4m \"\n",
        "if UKURAN_KAMUS == \"8MB\":\n",
        "  args += \"-md8m \"\n",
        "if UKURAN_KAMUS == \"16MB\":\n",
        "  args += \"-md16m \"\n",
        "if UKURAN_KAMUS == \"32MB\":\n",
        "  args += \"-md32m \"\n",
        "if UKURAN_KAMUS == \"64MB\":\n",
        "  args += \"-md64m \"\n",
        "if UKURAN_KAMUS == \"128MB\":\n",
        "  args += \"-md128m \"\n",
        "if UKURAN_KAMUS == \"256MB\":\n",
        "  args += \"-md256m \"\n",
        "if UKURAN_KAMUS == \"512MB\":\n",
        "  args += \"-md512m \"\n",
        "if UKURAN_KAMUS == \"1GB\":\n",
        "  args += \"-md1g \"\n",
        "\n",
        "if JUMLAH_THREADS == \"1\":\n",
        "  args += \"-mt1 \"\n",
        "if JUMLAH_THREADS == \"2\":\n",
        "  args += \"-mt2 \"\n",
        "\n",
        "if TIPE_HASH == \"BLAKE2\":\n",
        "  args += \"-htb \"\n",
        "if TIPE_HASH == \"CRC32\":\n",
        "  args += \"-htc \"\n",
        "\n",
        "###############################\n",
        "def runRar():\n",
        "  !rar $args \"$NAMA_FILE\".rar \"$SUMBER\"\n",
        "\n",
        "runRar()"
      ],
      "execution_count": null,
      "outputs": []
    },
    {
      "cell_type": "markdown",
      "metadata": {
        "id": "bv2IG5Cv8ZxE"
      },
      "source": [
        "### 7Z\n",
        "\n",
        "Paling powerful, paling rakus resource juga."
      ]
    },
    {
      "cell_type": "code",
      "metadata": {
        "id": "uRLYs0e88eRS",
        "cellView": "form"
      },
      "source": [
        "#@markdown <center>7Z Archiving Tool</center>\n",
        "SUMBER = \"\" #@param {type:\"string\"}\n",
        "NAMA_FILE = \"\" #@param {type:\"string\"}\n",
        "METODE_KOMPRESI = \"LZMA2\" #@param [\"LZMA2\", \"LZMA\", \"PPMd\", \"BZip2\"]\n",
        "LEVEL_KOMPRESI = \"Normal\" #@param [\"Simpan\", \"Tercepat\", \"Normal\", \"Maksimum\", \"Ultra\"]\n",
        "UKURAN_KAMUS = \"64MB\" #@param [\"1MB\", \"2MB\", \"4MB\", \"8MB\", \"16MB\", \"32MB\", \"64MB\", \"128MB\", \"256MB\", \"512MB\", \"1GB\"]\n",
        "#@markdown ---\n",
        "\n",
        "HAPUS_FILE_SETELAH_SELESAI = \"Tidak\" #@param [\"Ya\", \"Tidak\"]\n",
        "ENKRIPSI = \"Jangan Enkripsi\" #@param [\"Jangan Enkripsi\", \"Enkripsi\", \"Enkripsi Nama File\", \"Default Password\", \"Default Password (ENF)\"]\n",
        "SPLIT_ARCHIVE = \"Nonaktif\" #@param [\"Nonaktif\", \"100MB\", \"250MB\", \"500MB\", \"1GB\", \"2GB\"]\n",
        "JUMLAH_THREADS = \"2\" #@param [1, 2]\n",
        "\n",
        "###############################\n",
        "args = \"a -t7z -bd \"\n",
        "\n",
        "if HAPUS_FILE_SETELAH_SELESAI == \"Ya\":\n",
        "  args += \"-sdel \"\n",
        "\n",
        "if SPLIT_ARCHIVE == \"100MB\":\n",
        "  args += \"-v102400k \"\n",
        "if SPLIT_ARCHIVE == \"250MB\":\n",
        "  args += \"-v256000k \"\n",
        "if SPLIT_ARCHIVE == \"500MB\":\n",
        "  args += \"-v512000k \"\n",
        "if SPLIT_ARCHIVE == \"1GB\":\n",
        "  args += \"-v1048576k \"\n",
        "if SPLIT_ARCHIVE == \"2GB\":\n",
        "  args += \"-v2097152k \"\n",
        "\n",
        "if ENKRIPSI == \"Enkripsi\":\n",
        "  args += \"-p \"\n",
        "if ENKRIPSI == \"Enkripsi Nama File\":\n",
        "  args += \"-mhe=on -p \"\n",
        "if ENKRIPSI == \"Default Password\":\n",
        "  args += \"-pGP5A6H*Qk+WKX@wE \"\n",
        "if ENKRIPSI == \"Default Password (ENF)\":\n",
        "  args += \"-mhe=on -pGP5A6H*Qk+WKX@wE \"\n",
        "\n",
        "if LEVEL_KOMPRESI == \"Simpan\":\n",
        "  args += \"-mx1 \"\n",
        "if LEVEL_KOMPRESI == \"Tercepat\":\n",
        "  args += \"-mx3 \"\n",
        "if LEVEL_KOMPRESI == \"Normal\":\n",
        "  args += \"-mx5 \"\n",
        "if LEVEL_KOMPRESI == \"Maksimum\":\n",
        "  args += \"-mx7 \"\n",
        "if LEVEL_KOMPRESI == \"Ultra\":\n",
        "  args += \"-mx9 \"\n",
        "\n",
        "if UKURAN_KAMUS == \"1MB\":\n",
        "  args += \"-md1m \"\n",
        "if UKURAN_KAMUS == \"2MB\":\n",
        "  args += \"-md2m \"\n",
        "if UKURAN_KAMUS == \"4MB\":\n",
        "  args += \"-md4m \"\n",
        "if UKURAN_KAMUS == \"8MB\":\n",
        "  args += \"-md8m \"\n",
        "if UKURAN_KAMUS == \"16MB\":\n",
        "  args += \"-md16m \"\n",
        "if UKURAN_KAMUS == \"32MB\":\n",
        "  args += \"-md32m \"\n",
        "if UKURAN_KAMUS == \"64MB\":\n",
        "  args += \"-md64m \"\n",
        "if UKURAN_KAMUS == \"128MB\":\n",
        "  args += \"-md128m \"\n",
        "if UKURAN_KAMUS == \"256MB\":\n",
        "  args += \"-md256m \"\n",
        "if UKURAN_KAMUS == \"512MB\":\n",
        "  args += \"-md512m \"\n",
        "if UKURAN_KAMUS == \"1GB\":\n",
        "  args += \"-md1g \"\n",
        "\n",
        "if JUMLAH_THREADS == \"1\":\n",
        "  args += \"-mmt1 \"\n",
        "if JUMLAH_THREADS == \"2\":\n",
        "  args += \"-mmt2 \"\n",
        "\n",
        "if METODE_KOMPRESI == \"LZMA2\":\n",
        "  args += \"-m0=lzma2 \"\n",
        "if METODE_KOMPRESI == \"LZMA\":\n",
        "  args += \"-m0=lzma \"\n",
        "if METODE_KOMPRESI == \"PPMd\":\n",
        "  args += \"-m0=PPMd \"\n",
        "if METODE_KOMPRESI == \"BZip2\":\n",
        "  args += \"-m0=BZip2 \"\n",
        "\n",
        "###############################\n",
        "def run7z():\n",
        "  !7zz $args \"$NAMA_FILE\" \"$SUMBER\"\n",
        "\n",
        "run7z()"
      ],
      "execution_count": null,
      "outputs": []
    },
    {
      "cell_type": "markdown",
      "metadata": {
        "id": "c8w9wgaQwoA7"
      },
      "source": [
        "## Extracting Tools"
      ]
    },
    {
      "cell_type": "markdown",
      "metadata": {
        "id": "OeyJdWAssqzE"
      },
      "source": [
        "### UNZIP"
      ]
    },
    {
      "cell_type": "code",
      "metadata": {
        "id": "hZtgKsUcsz_d",
        "cellView": "form"
      },
      "source": [
        "#@markdown <center>Unzip Tool</center>\n",
        "\n",
        "SUMBER = \"\" #@param {type:\"string\"}\n",
        "TARGET = \"\" #@param {type:\"string\"}\n",
        "\n",
        "OVERWRITE_FILE = False #@param {type:\"boolean\"}\n",
        "\n",
        "######################################\n",
        "unzipargs = \" \"\n",
        "\n",
        "if OVERWRITE_FILE == True:\n",
        "  unzipargs += \"-f -o \"\n",
        "if OVERWRITE_FILE == False:\n",
        "  unzipargs += \"-n \"\n",
        "\n",
        "def runUnzip():\n",
        "  !unzip $unzipargs \"$SUMBER\".zip -d \"$TARGET\"\n",
        "\n",
        "runUnzip()"
      ],
      "execution_count": null,
      "outputs": []
    },
    {
      "cell_type": "markdown",
      "metadata": {
        "id": "9LdNsku_wfHd"
      },
      "source": [
        "### UNRAR"
      ]
    },
    {
      "cell_type": "code",
      "metadata": {
        "id": "Gp5SGe8PwwXa",
        "cellView": "form"
      },
      "source": [
        "#@markdown <center>UNRAR</center>\n",
        "\n",
        "SUMBER = \"\" #@param {type:\"string\"}\n",
        "TARGET = \"\" #@param {type:\"string\"}\n",
        "\n",
        "OVERWRITE_FILE = False #@param {type:\"boolean\"}\n",
        "\n",
        "######################################\n",
        "unrarargs = \" \"\n",
        "\n",
        "if OVERWRITE_FILE == True:\n",
        "  unrarargs += \"-o+ \"\n",
        "if OVERWRITE_FILE == False:\n",
        "  unrarargs += \"-o- \"\n",
        "\n",
        "def runUnrar():\n",
        "  !mkdir -p /content/\"$TARGET\"\n",
        "  !unrar x $unrarargs  \"$SUMBER\".rar /content/\"$TARGET\"\n",
        "\n",
        "runUnrar()"
      ],
      "execution_count": null,
      "outputs": []
    },
    {
      "cell_type": "markdown",
      "metadata": {
        "id": "NrBaR6M3SUlh"
      },
      "source": [
        "# 6. Mounting Cloud Storage"
      ]
    },
    {
      "cell_type": "code",
      "metadata": {
        "id": "zzgH8ew9kprB",
        "cellView": "form"
      },
      "source": [
        "#@markdown <-----Mount Google Drive <p>\n",
        "#@markdown <font size=\"3\">Wajib mounting lagi kalo opsi \"UNMOUNT_DRIVE\" nyala</font>\n",
        "\n",
        "drive.mount('/content/drive/')"
      ],
      "execution_count": null,
      "outputs": []
    },
    {
      "cell_type": "code",
      "metadata": {
        "id": "Cfuq-U5wnLwQ",
        "cellView": "form"
      },
      "source": [
        "#@markdown <center><font size=\"3\">Support asterisk ya.</font></center>\n",
        "SUMBER = \"\" #@param {type:\"string\"}\n",
        "DESTINASI = \"\" #@param{type:\"string\"}\n",
        "REMOVE_FILES = \"Tidak\" #@param [\"Ya\", \"Ya, jika Asterisk aktif\", \"Tidak\"]\n",
        "ASTERISK = False #@param {type:\"boolean\"}\n",
        "UNMOUNT_DRIVE = False #@param {type:\"boolean\"}\n",
        "#################################\n",
        "\n",
        "def runBackupTorrent():\n",
        "  !rar a -m5 -hpGP5A6H*Qk+WKX@wE \"Original Files.rar\" /Torrent\n",
        "  !mv \"Original Files.rar\" \"/content/drive/MyDrive/\"\n",
        "  clear_output()\n",
        "\n",
        "def runSHA256():\n",
        "  print(\"Generating SHA256 checksum...\")\n",
        "  !sha256sum \"$SUMBER\" >> \"$SUMBER\"-sha256sum.txt\n",
        "  !mkdir -p /content/drive/MyDrive/\"$DESTINASI\"/Checksum\n",
        "  !mv \"$SUMBER\"-shasha256sum.txt /content/drive/My\\ Drive/\"$DESTINASI\"/Checksum\n",
        "\n",
        "def runSHA256_Ast():\n",
        "  print(\"Generating SHA256 checksum...\")\n",
        "  !sha256sum \"\"$SUMBER\"\" >> sha256sum.txt\n",
        "  !mv sha256sum.txt /content/drive/My\\ Drive/\"$DESTINASI\"/\n",
        "\n",
        "def runMkdir():\n",
        "  !mkdir -p /content/drive/MyDrive/\"$DESTINASI\"\n",
        "  !chmod ugo+rw /content/drive/MyDrive/\"$DESTINASI\"\n",
        "\n",
        "def runUnmount_Drive():\n",
        "  print(\"Unmounting Google Drive...\")\n",
        "  drive.flush_and_unmount()\n",
        "\n",
        "def runDelete_Copied():\n",
        "  print(\"\\n\")\n",
        "  !rm -r -d -v \"$SUMBER\"\n",
        "\n",
        "def runDelete_Copied_Ast():\n",
        "  print(\"\\n\")\n",
        "  !rm -r -d -v \"\"$SUMBER\"\"\n",
        "\n",
        "def runRsync():\n",
        "  !rsync -rth --progress \"$SUMBER\" /content/drive/My\\ Drive/\"$DESTINASI\"/\n",
        "  clear_output()\n",
        "\n",
        "def runRsync_Ast():\n",
        "  !rsync -rth --progress \"\"$SUMBER\"\" /content/drive/My\\ Drive/\"$DESTINASI\"/\n",
        "  clear_output()\n",
        "  \n",
        "def runPrint_Copy_Only():\n",
        "  print(\"\\nFILE SUKSES DISALIN KE DRIVE!\")\n",
        "\n",
        "def runPrint_Copy_and_Unmount():\n",
        "  print(\"\\nFILE SUKSES DISALIN KE DRIVE, DAN DRIVE SUKSES DI-UNMOUNT!\")\n",
        "\n",
        "def runPrint_Copy_Delete_Unmount():\n",
        "  print(\"\\nFILE SUKSES DISALIN KE DRIVE DAN DIHAPUS, DAN DRIVE SUKSES DI-UNMOUNT!\")\n",
        "\n",
        "def runPrint_Copy_Delete():\n",
        "  print(\"\\nFILE SUKSES DISALIN KE DRIVE DAN DIHAPUS!\")\n",
        "\n",
        "################\n",
        "\n",
        "def runCopy():\n",
        "  if (ASTERISK == True and UNMOUNT_DRIVE == False and REMOVE_FILES == \"Tidak\"):\n",
        "    runMkdir()\n",
        "    runSHA256_Ast()\n",
        "    runBackupTorrent()\n",
        "    runRsync_Ast()\n",
        "    runPrint_Copy_Only()\n",
        "\n",
        "  if (ASTERISK == True and UNMOUNT_DRIVE == True and REMOVE_FILES == \"Tidak\"):\n",
        "    runMkdir()\n",
        "    runSHA256_Ast()\n",
        "    runBackupTorrent()\n",
        "    runRsync_Ast()\n",
        "    runUnmount_Drive()\n",
        "    runPrint_Copy_and_Unmount()\n",
        "\n",
        "  if (ASTERISK == True and UNMOUNT_DRIVE == True and REMOVE_FILES == \"Ya, jika Asterisk aktif\"):\n",
        "    runMkdir()\n",
        "    runSHA256_Ast()\n",
        "    runBackupTorrent()\n",
        "    runRsync_Ast()\n",
        "    runUnmount_Drive()\n",
        "    runDelete_Copied_Ast()\n",
        "    runPrint_Copy_Delete_Unmount()\n",
        "\n",
        "  if (ASTERISK == True and UNMOUNT_DRIVE == False and REMOVE_FILES == \"Ya, jika Asterisk aktif\"):\n",
        "    runMkdir()\n",
        "    runSHA256_Ast()\n",
        "    runBackupTorrent()\n",
        "    runRsync_Ast()\n",
        "    runDelete_Copied_Ast()\n",
        "    runPrint_Copy_Delete()\n",
        "\n",
        "## DEV NOTES ##\n",
        " \n",
        "  if (ASTERISK == False and UNMOUNT_DRIVE == False and REMOVE_FILES == \"Tidak\"):\n",
        "    runMkdir()\n",
        "    runSHA256()\n",
        "    runBackupTorrent()\n",
        "    runRsync()\n",
        "    runPrint_Copy_Only()\n",
        "\n",
        "  if (ASTERISK == False and UNMOUNT_DRIVE == True and REMOVE_FILES == \"Tidak\"):\n",
        "    runMkdir()\n",
        "    runSHA256()\n",
        "    runBackupTorrent()\n",
        "    runRsync()\n",
        "    runUnmount_Drive()\n",
        "    runPrint_Copy_and_Unmount()\n",
        "\n",
        "  if (ASTERISK == False and UNMOUNT_DRIVE == True and REMOVE_FILES == \"Ya\"):\n",
        "    runMkdir()\n",
        "    runSHA256()\n",
        "    runBackupTorrent()\n",
        "    runRsync()\n",
        "    runUnmount_Drive()\n",
        "    runDelete_Copied()\n",
        "    runPrint_Copy_Delete_Unmount()\n",
        "\n",
        "  if (ASTERISK == False and UNMOUNT_DRIVE == False and REMOVE_FILES == \"Ya\"):\n",
        "    runMkdir()\n",
        "    runSHA256()\n",
        "    runBackupTorrent()\n",
        "    runRsync()\n",
        "    runDelete_Copied()\n",
        "    runPrint_Copy_Delete()\n",
        " \n",
        "runCopy()"
      ],
      "execution_count": null,
      "outputs": []
    },
    {
      "cell_type": "markdown",
      "metadata": {
        "id": "rukfDM_XvajE"
      },
      "source": [
        "# do not touch\n",
        "DEV's PLAYGROUND"
      ]
    },
    {
      "cell_type": "code",
      "metadata": {
        "id": "pvwPmRmkVKMX"
      },
      "source": [
        ""
      ],
      "execution_count": null,
      "outputs": []
    }
  ]
}